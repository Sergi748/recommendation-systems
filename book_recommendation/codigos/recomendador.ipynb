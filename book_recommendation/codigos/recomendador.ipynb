{
 "cells": [
  {
   "cell_type": "code",
   "execution_count": 1,
   "metadata": {},
   "outputs": [],
   "source": [
    "import random\n",
    "import warnings\n",
    "from utils import *\n",
    "warnings.filterwarnings(\"ignore\")"
   ]
  },
  {
   "attachments": {},
   "cell_type": "markdown",
   "metadata": {},
   "source": [
    "## Reading sources"
   ]
  },
  {
   "cell_type": "code",
   "execution_count": 2,
   "metadata": {},
   "outputs": [
    {
     "name": "stdout",
     "output_type": "stream",
     "text": [
      "Number of records: (266726, 5)\n"
     ]
    },
    {
     "data": {
      "text/plain": "         isbn           book-title           book-author  \\\n0  0195153448  Classical Mythology    Mark P. O. Morford   \n1  0002005018         Clara Callan  Richard Bruce Wright   \n\n                                         image-url-l  antiquity  \n0  http://images.amazon.com/images/P/0195153448.0...         21  \n1  http://images.amazon.com/images/P/0002005018.0...         22  ",
      "text/html": "<div>\n<style scoped>\n    .dataframe tbody tr th:only-of-type {\n        vertical-align: middle;\n    }\n\n    .dataframe tbody tr th {\n        vertical-align: top;\n    }\n\n    .dataframe thead th {\n        text-align: right;\n    }\n</style>\n<table border=\"1\" class=\"dataframe\">\n  <thead>\n    <tr style=\"text-align: right;\">\n      <th></th>\n      <th>isbn</th>\n      <th>book-title</th>\n      <th>book-author</th>\n      <th>image-url-l</th>\n      <th>antiquity</th>\n    </tr>\n  </thead>\n  <tbody>\n    <tr>\n      <th>0</th>\n      <td>0195153448</td>\n      <td>Classical Mythology</td>\n      <td>Mark P. O. Morford</td>\n      <td>http://images.amazon.com/images/P/0195153448.0...</td>\n      <td>21</td>\n    </tr>\n    <tr>\n      <th>1</th>\n      <td>0002005018</td>\n      <td>Clara Callan</td>\n      <td>Richard Bruce Wright</td>\n      <td>http://images.amazon.com/images/P/0002005018.0...</td>\n      <td>22</td>\n    </tr>\n  </tbody>\n</table>\n</div>"
     },
     "execution_count": 2,
     "metadata": {},
     "output_type": "execute_result"
    }
   ],
   "source": [
    "df_books_complete = pd.read_csv('../datos/Books.csv', low_memory=False)\n",
    "df_books_complete.columns = df_books_complete.columns.str.lower()\n",
    "df_books = df_books_complete[['isbn', 'book-title', 'book-author', 'year-of-publication', 'publisher', 'image-url-l']].copy()\n",
    "df_books = df_books[~df_books['year-of-publication'].isin(['DK Publishing Inc', 'Gallimard'])]\n",
    "df_books['year-of-publication'] = df_books['year-of-publication'].astype(int)\n",
    "df_books['book-author'] = df_books['book-author'].map(lambda x: capitalize_words(x))\n",
    "# Generamos una variable que nos indique la antigüedad del libro y eliminamos aquellos libros que aún no hayan sido publicados.\n",
    "df_books['antiquity'] = np.where(df_books['year-of-publication'] != 0,\n",
    "                                 datetime.datetime.now().year - df_books['year-of-publication'],\n",
    "                                 df_books['year-of-publication'])\n",
    "df_books = df_books[df_books['antiquity'] > 0].drop(['year-of-publication', 'publisher'], axis=1).drop_duplicates().copy()\n",
    "print(f'Number of records: {df_books.shape}')\n",
    "df_books.head(2)"
   ]
  },
  {
   "cell_type": "code",
   "execution_count": 4,
   "metadata": {},
   "outputs": [
    {
     "name": "stdout",
     "output_type": "stream",
     "text": [
      "Valores unicos de la variable antiquity para cada libro: 1\n",
      "Valores unicos de la variable book-title para cada libro: 1\n"
     ]
    }
   ],
   "source": [
    "print(f\"Valores unicos de la variable antiquity para cada libro: {df_books.groupby('isbn').agg({'antiquity': 'nunique'})['antiquity'].unique()[0]}\")\n",
    "print(f\"Valores unicos de la variable book-title para cada libro: {df_books.groupby('isbn').agg({'book-title': 'nunique'})['book-title'].unique()[0]}\")"
   ]
  },
  {
   "cell_type": "code",
   "execution_count": 5,
   "metadata": {},
   "outputs": [
    {
     "name": "stdout",
     "output_type": "stream",
     "text": [
      "Number of records: (1149780, 3)\n"
     ]
    },
    {
     "data": {
      "text/plain": "   user-id        isbn  book-rating\n0   276725  034545104X            0\n1   276726  0155061224            5",
      "text/html": "<div>\n<style scoped>\n    .dataframe tbody tr th:only-of-type {\n        vertical-align: middle;\n    }\n\n    .dataframe tbody tr th {\n        vertical-align: top;\n    }\n\n    .dataframe thead th {\n        text-align: right;\n    }\n</style>\n<table border=\"1\" class=\"dataframe\">\n  <thead>\n    <tr style=\"text-align: right;\">\n      <th></th>\n      <th>user-id</th>\n      <th>isbn</th>\n      <th>book-rating</th>\n    </tr>\n  </thead>\n  <tbody>\n    <tr>\n      <th>0</th>\n      <td>276725</td>\n      <td>034545104X</td>\n      <td>0</td>\n    </tr>\n    <tr>\n      <th>1</th>\n      <td>276726</td>\n      <td>0155061224</td>\n      <td>5</td>\n    </tr>\n  </tbody>\n</table>\n</div>"
     },
     "execution_count": 5,
     "metadata": {},
     "output_type": "execute_result"
    }
   ],
   "source": [
    "df_ratings = pd.read_csv('../datos/Ratings.csv', low_memory=False)\n",
    "df_ratings.columns = df_ratings.columns.str.lower()\n",
    "print('Number of records: {0}'.format(df_ratings.shape))\n",
    "df_ratings.head(2)"
   ]
  },
  {
   "cell_type": "code",
   "execution_count": 6,
   "metadata": {
    "collapsed": false
   },
   "outputs": [
    {
     "data": {
      "text/plain": "          isbn  book-rating\n0   0330299891          3.0\n1   0375404120          1.5",
      "text/html": "<div>\n<style scoped>\n    .dataframe tbody tr th:only-of-type {\n        vertical-align: middle;\n    }\n\n    .dataframe tbody tr th {\n        vertical-align: top;\n    }\n\n    .dataframe thead th {\n        text-align: right;\n    }\n</style>\n<table border=\"1\" class=\"dataframe\">\n  <thead>\n    <tr style=\"text-align: right;\">\n      <th></th>\n      <th>isbn</th>\n      <th>book-rating</th>\n    </tr>\n  </thead>\n  <tbody>\n    <tr>\n      <th>0</th>\n      <td>0330299891</td>\n      <td>3.0</td>\n    </tr>\n    <tr>\n      <th>1</th>\n      <td>0375404120</td>\n      <td>1.5</td>\n    </tr>\n  </tbody>\n</table>\n</div>"
     },
     "execution_count": 6,
     "metadata": {},
     "output_type": "execute_result"
    }
   ],
   "source": [
    "df_ratings_bybooks = df_ratings.groupby('isbn')['book-rating'].mean().reset_index()\n",
    "df_ratings_bybooks.head(2)"
   ]
  },
  {
   "cell_type": "code",
   "execution_count": 7,
   "metadata": {
    "collapsed": false
   },
   "outputs": [
    {
     "data": {
      "text/plain": "   user-id  nbooks\n0        2       1\n1        7       1",
      "text/html": "<div>\n<style scoped>\n    .dataframe tbody tr th:only-of-type {\n        vertical-align: middle;\n    }\n\n    .dataframe tbody tr th {\n        vertical-align: top;\n    }\n\n    .dataframe thead th {\n        text-align: right;\n    }\n</style>\n<table border=\"1\" class=\"dataframe\">\n  <thead>\n    <tr style=\"text-align: right;\">\n      <th></th>\n      <th>user-id</th>\n      <th>nbooks</th>\n    </tr>\n  </thead>\n  <tbody>\n    <tr>\n      <th>0</th>\n      <td>2</td>\n      <td>1</td>\n    </tr>\n    <tr>\n      <th>1</th>\n      <td>7</td>\n      <td>1</td>\n    </tr>\n  </tbody>\n</table>\n</div>"
     },
     "execution_count": 7,
     "metadata": {},
     "output_type": "execute_result"
    }
   ],
   "source": [
    "df_users_books = df_ratings.groupby('user-id').agg({'isbn': 'nunique'}).reset_index()\n",
    "df_users_books.columns = ['user-id', 'nbooks']\n",
    "df_users_books.head(2)"
   ]
  },
  {
   "cell_type": "code",
   "execution_count": 8,
   "metadata": {},
   "outputs": [
    {
     "name": "stdout",
     "output_type": "stream",
     "text": [
      "Number of records: (278858, 4)\n",
      "{'user-id': 0, 'location': 0, 'age': 110762, 'country': 0}\n"
     ]
    },
    {
     "data": {
      "text/plain": "   user-id                   location   age country\n0        1         nyc, new york, usa   NaN     usa\n1        2  stockton, california, usa  18.0     usa",
      "text/html": "<div>\n<style scoped>\n    .dataframe tbody tr th:only-of-type {\n        vertical-align: middle;\n    }\n\n    .dataframe tbody tr th {\n        vertical-align: top;\n    }\n\n    .dataframe thead th {\n        text-align: right;\n    }\n</style>\n<table border=\"1\" class=\"dataframe\">\n  <thead>\n    <tr style=\"text-align: right;\">\n      <th></th>\n      <th>user-id</th>\n      <th>location</th>\n      <th>age</th>\n      <th>country</th>\n    </tr>\n  </thead>\n  <tbody>\n    <tr>\n      <th>0</th>\n      <td>1</td>\n      <td>nyc, new york, usa</td>\n      <td>NaN</td>\n      <td>usa</td>\n    </tr>\n    <tr>\n      <th>1</th>\n      <td>2</td>\n      <td>stockton, california, usa</td>\n      <td>18.0</td>\n      <td>usa</td>\n    </tr>\n  </tbody>\n</table>\n</div>"
     },
     "execution_count": 8,
     "metadata": {},
     "output_type": "execute_result"
    }
   ],
   "source": [
    "df_users = pd.read_csv('../datos/Users.csv', low_memory=False)\n",
    "df_users.columns = df_users.columns.str.lower()\n",
    "df_users['country'] = df_users['location'].apply(lambda x: x.split(',')[-1])\n",
    "print(f'Number of records: {df_users.shape}')\n",
    "print(df_users.isna().sum().to_dict())\n",
    "df_users.head(2)"
   ]
  },
  {
   "attachments": {},
   "cell_type": "markdown",
   "metadata": {},
   "source": [
    "# Collaborative Filtering\n",
    "---"
   ]
  },
  {
   "attachments": {},
   "cell_type": "markdown",
   "metadata": {},
   "source": [
    "https://medium.com/swlh/how-to-build-simple-recommender-systems-in-python-647e5bcd78bd"
   ]
  },
  {
   "attachments": {},
   "cell_type": "markdown",
   "metadata": {},
   "source": [
    "https://www.analyticsvidhya.com/blog/2018/06/comprehensive-guide-recommendation-engine-python/"
   ]
  },
  {
   "attachments": {},
   "cell_type": "markdown",
   "metadata": {},
   "source": [
    "https://unipython.com/como-desarrollar-un-sistema-de-recomendacion-en-python/?utm_content=cmp-true"
   ]
  },
  {
   "attachments": {},
   "cell_type": "markdown",
   "metadata": {},
   "source": [
    "notebook de ejemplo: https://www.kaggle.com/code/hilalmleykeyuksel/book-recommender"
   ]
  },
  {
   "cell_type": "code",
   "execution_count": 9,
   "metadata": {},
   "outputs": [
    {
     "name": "stdout",
     "output_type": "stream",
     "text": [
      "shape: (1017069, 6)\n"
     ]
    },
    {
     "data": {
      "text/plain": "   user-id  book-rating                                         book-title  \\\n0        2            0                                Classical Mythology   \n1        8            0                             The Kitchen God's Wife   \n2        8            0  What If?: The World's Foremost Military Histor...   \n3        8            0                               Decision in Normandy   \n4        8            0                                    PLEADING GUILTY   \n\n          book-author                                        image-url-l  \\\n0  Mark P. O. Morford  http://images.amazon.com/images/P/0195153448.0...   \n1             Amy Tan  http://images.amazon.com/images/P/0399135782.0...   \n2       Robert Cowley  http://images.amazon.com/images/P/0425176428.0...   \n3        Carlo D'este  http://images.amazon.com/images/P/0060973129.0...   \n4         Scott Turow  http://images.amazon.com/images/P/0671870432.0...   \n\n   antiquity  \n0         21  \n1         32  \n2         23  \n3         32  \n4         30  ",
      "text/html": "<div>\n<style scoped>\n    .dataframe tbody tr th:only-of-type {\n        vertical-align: middle;\n    }\n\n    .dataframe tbody tr th {\n        vertical-align: top;\n    }\n\n    .dataframe thead th {\n        text-align: right;\n    }\n</style>\n<table border=\"1\" class=\"dataframe\">\n  <thead>\n    <tr style=\"text-align: right;\">\n      <th></th>\n      <th>user-id</th>\n      <th>book-rating</th>\n      <th>book-title</th>\n      <th>book-author</th>\n      <th>image-url-l</th>\n      <th>antiquity</th>\n    </tr>\n  </thead>\n  <tbody>\n    <tr>\n      <th>0</th>\n      <td>2</td>\n      <td>0</td>\n      <td>Classical Mythology</td>\n      <td>Mark P. O. Morford</td>\n      <td>http://images.amazon.com/images/P/0195153448.0...</td>\n      <td>21</td>\n    </tr>\n    <tr>\n      <th>1</th>\n      <td>8</td>\n      <td>0</td>\n      <td>The Kitchen God's Wife</td>\n      <td>Amy Tan</td>\n      <td>http://images.amazon.com/images/P/0399135782.0...</td>\n      <td>32</td>\n    </tr>\n    <tr>\n      <th>2</th>\n      <td>8</td>\n      <td>0</td>\n      <td>What If?: The World's Foremost Military Histor...</td>\n      <td>Robert Cowley</td>\n      <td>http://images.amazon.com/images/P/0425176428.0...</td>\n      <td>23</td>\n    </tr>\n    <tr>\n      <th>3</th>\n      <td>8</td>\n      <td>0</td>\n      <td>Decision in Normandy</td>\n      <td>Carlo D'este</td>\n      <td>http://images.amazon.com/images/P/0060973129.0...</td>\n      <td>32</td>\n    </tr>\n    <tr>\n      <th>4</th>\n      <td>8</td>\n      <td>0</td>\n      <td>PLEADING GUILTY</td>\n      <td>Scott Turow</td>\n      <td>http://images.amazon.com/images/P/0671870432.0...</td>\n      <td>30</td>\n    </tr>\n  </tbody>\n</table>\n</div>"
     },
     "execution_count": 9,
     "metadata": {},
     "output_type": "execute_result"
    }
   ],
   "source": [
    "df_coll_filter = pd.merge(df_users, df_ratings, on='user-id', how='inner')\n",
    "df_coll_filter = pd.merge(df_coll_filter, df_books, on=['isbn'], how='inner')\n",
    "df_coll_filter = df_coll_filter.sort_values('user-id')\\\n",
    "    .reset_index(drop=True)\\\n",
    "    .drop(['location', 'age', 'country', 'isbn'], axis=1)\n",
    "print(f\"shape: {df_coll_filter.shape}\")\n",
    "df_coll_filter.head()"
   ]
  },
  {
   "cell_type": "code",
   "execution_count": 10,
   "metadata": {},
   "outputs": [
    {
     "name": "stdout",
     "output_type": "stream",
     "text": [
      "(1621, 175413)\n"
     ]
    },
    {
     "data": {
      "text/plain": "book-title   A Light in the Storm: The Civil War Diary of Amelia Martin, Fenwick Island, Delaware, 1861 (Dear America)  \\\nuser-id                                                                                                                  \n254                                                       0.0                                                            \n507                                                       0.0                                                            \n\nbook-title   Always Have Popsicles   Apple Magic (The Collector's series)  \\\nuser-id                                                                     \n254                            0.0                                    0.0   \n507                            0.0                                    0.0   \n\nbook-title   Beyond IBM: Leadership Marketing and Finance for the 1990s  \\\nuser-id                                                                   \n254                                                       0.0             \n507                                                       0.0             \n\nbook-title   Clifford Visita El Hospital (Clifford El Gran Perro Colorado)  \\\nuser-id                                                                      \n254                                                       0.0                \n507                                                       0.0                \n\nbook-title   Dark Justice   Deceived  \\\nuser-id                                \n254                   0.0        0.0   \n507                   0.0        0.0   \n\nbook-title   Earth Prayers From around the World: 365 Prayers, Poems, and Invocations for Honoring the Earth  \\\nuser-id                                                                                                        \n254                                                       0.0                                                  \n507                                                       0.0                                                  \n\nbook-title   Final Fantasy Anthology: Official Strategy Guide (Brady Games)  \\\nuser-id                                                                       \n254                                                       0.0                 \n507                                                       0.0                 \n\nbook-title   Flight of Fancy: American Heiresses (Zebra Ballad Romance)  ...  \\\nuser-id                                                                  ...   \n254                                                       0.0            ...   \n507                                                       0.0            ...   \n\nbook-title  Ã?coute ma diffÃ©rence (Le Temps des femmes)  \\\nuser-id                                                    \n254                                                  0.0   \n507                                                  0.0   \n\nbook-title  Ã?ngeles fugaces (Falling Angels)  Ã?Â?ber das Fernsehen.  \\\nuser-id                                                                 \n254                                       0.0                     0.0   \n507                                       0.0                     0.0   \n\nbook-title  Ã?Â?ber die Freiheit.  \\\nuser-id                             \n254                           0.0   \n507                           0.0   \n\nbook-title  Ã?Â?ber die Pflicht zum Ungehorsam gegen den Staat.  \\\nuser-id                                                           \n254                                                       0.0     \n507                                                       0.0     \n\nbook-title  Ã?Â?berraschung am Valentinstag.  Ã?Â?lpiraten.  \\\nuser-id                                                       \n254                                      0.0            0.0   \n507                                      0.0            0.0   \n\nbook-title  Ã?Â?rger mit Produkt X. Roman.  Ã?Â?stlich der Berge.  \\\nuser-id                                                             \n254                                    0.0                    0.0   \n507                                    0.0                    0.0   \n\nbook-title  Ã?Â?thique en toc  \nuser-id                        \n254                       0.0  \n507                       0.0  \n\n[2 rows x 175413 columns]",
      "text/html": "<div>\n<style scoped>\n    .dataframe tbody tr th:only-of-type {\n        vertical-align: middle;\n    }\n\n    .dataframe tbody tr th {\n        vertical-align: top;\n    }\n\n    .dataframe thead th {\n        text-align: right;\n    }\n</style>\n<table border=\"1\" class=\"dataframe\">\n  <thead>\n    <tr style=\"text-align: right;\">\n      <th>book-title</th>\n      <th>A Light in the Storm: The Civil War Diary of Amelia Martin, Fenwick Island, Delaware, 1861 (Dear America)</th>\n      <th>Always Have Popsicles</th>\n      <th>Apple Magic (The Collector's series)</th>\n      <th>Beyond IBM: Leadership Marketing and Finance for the 1990s</th>\n      <th>Clifford Visita El Hospital (Clifford El Gran Perro Colorado)</th>\n      <th>Dark Justice</th>\n      <th>Deceived</th>\n      <th>Earth Prayers From around the World: 365 Prayers, Poems, and Invocations for Honoring the Earth</th>\n      <th>Final Fantasy Anthology: Official Strategy Guide (Brady Games)</th>\n      <th>Flight of Fancy: American Heiresses (Zebra Ballad Romance)</th>\n      <th>...</th>\n      <th>Ã?coute ma diffÃ©rence (Le Temps des femmes)</th>\n      <th>Ã?ngeles fugaces (Falling Angels)</th>\n      <th>Ã?Â?ber das Fernsehen.</th>\n      <th>Ã?Â?ber die Freiheit.</th>\n      <th>Ã?Â?ber die Pflicht zum Ungehorsam gegen den Staat.</th>\n      <th>Ã?Â?berraschung am Valentinstag.</th>\n      <th>Ã?Â?lpiraten.</th>\n      <th>Ã?Â?rger mit Produkt X. Roman.</th>\n      <th>Ã?Â?stlich der Berge.</th>\n      <th>Ã?Â?thique en toc</th>\n    </tr>\n    <tr>\n      <th>user-id</th>\n      <th></th>\n      <th></th>\n      <th></th>\n      <th></th>\n      <th></th>\n      <th></th>\n      <th></th>\n      <th></th>\n      <th></th>\n      <th></th>\n      <th></th>\n      <th></th>\n      <th></th>\n      <th></th>\n      <th></th>\n      <th></th>\n      <th></th>\n      <th></th>\n      <th></th>\n      <th></th>\n      <th></th>\n    </tr>\n  </thead>\n  <tbody>\n    <tr>\n      <th>254</th>\n      <td>0.0</td>\n      <td>0.0</td>\n      <td>0.0</td>\n      <td>0.0</td>\n      <td>0.0</td>\n      <td>0.0</td>\n      <td>0.0</td>\n      <td>0.0</td>\n      <td>0.0</td>\n      <td>0.0</td>\n      <td>...</td>\n      <td>0.0</td>\n      <td>0.0</td>\n      <td>0.0</td>\n      <td>0.0</td>\n      <td>0.0</td>\n      <td>0.0</td>\n      <td>0.0</td>\n      <td>0.0</td>\n      <td>0.0</td>\n      <td>0.0</td>\n    </tr>\n    <tr>\n      <th>507</th>\n      <td>0.0</td>\n      <td>0.0</td>\n      <td>0.0</td>\n      <td>0.0</td>\n      <td>0.0</td>\n      <td>0.0</td>\n      <td>0.0</td>\n      <td>0.0</td>\n      <td>0.0</td>\n      <td>0.0</td>\n      <td>...</td>\n      <td>0.0</td>\n      <td>0.0</td>\n      <td>0.0</td>\n      <td>0.0</td>\n      <td>0.0</td>\n      <td>0.0</td>\n      <td>0.0</td>\n      <td>0.0</td>\n      <td>0.0</td>\n      <td>0.0</td>\n    </tr>\n  </tbody>\n</table>\n<p>2 rows × 175413 columns</p>\n</div>"
     },
     "execution_count": 10,
     "metadata": {},
     "output_type": "execute_result"
    }
   ],
   "source": [
    "# Eliminamos los registros que hayan votado menos de 250 veces.\n",
    "df_filter = df_coll_filter[df_coll_filter['user-id'].map(df_coll_filter['user-id'].value_counts()) > 100].copy()\n",
    "\n",
    "# Realizamos un pivoteo de la tabla a partir del user-id, en esta nueva tabla tendremos en cada columna todos los posibles libros,\n",
    "# y cada fila hace referencia a cada uno de los usuarios donde el valor de cada columna será el valor dado por cada uno de estos usuario al libro concreto, \n",
    "# en caso de no haber puntuado el libro se le asignará el valor 0\n",
    "df_users_pivot = df_filter.pivot_table(index=[\"user-id\"],columns=[\"book-title\"],values=\"book-rating\").copy()\n",
    "df_users_pivot.fillna(0,inplace=True)\n",
    "print(df_users_pivot.shape)\n",
    "df_users_pivot.head(2)"
   ]
  },
  {
   "cell_type": "code",
   "execution_count": 11,
   "metadata": {},
   "outputs": [
    {
     "name": "stdout",
     "output_type": "stream",
     "text": [
      "🟦 USER ID: 63714; 29.0 años de milton keynes, england, united kingdom\n",
      "Libros favoritos son:\n"
     ]
    },
    {
     "data": {
      "text/plain": "                                          book-title      book-author  \\\n0                                          Hogfather  Terry Pratchett   \n1                               Transformers, Book 1    Scott Ciencin   \n2        Dawkins vs. Gould : Survival of the Fittest     Kim Sterelny   \n3  Cretaceous-Tertiary Mass Extinctions: Biotic a...   Norman MacLeod   \n4           Evolution: A Case of Stating the Obvious      Derek Hough   \n\n                    publisher  year-of-publication  \n0                 HarperTorch                 1999  \n1                     I Books                 2003  \n2               Icon Books UK                 2001  \n3  W. W. Norton &amp; Company                 1996  \n4    Berkley Publishing Group                 1997  ",
      "text/html": "<div>\n<style scoped>\n    .dataframe tbody tr th:only-of-type {\n        vertical-align: middle;\n    }\n\n    .dataframe tbody tr th {\n        vertical-align: top;\n    }\n\n    .dataframe thead th {\n        text-align: right;\n    }\n</style>\n<table border=\"1\" class=\"dataframe\">\n  <thead>\n    <tr style=\"text-align: right;\">\n      <th></th>\n      <th>book-title</th>\n      <th>book-author</th>\n      <th>publisher</th>\n      <th>year-of-publication</th>\n    </tr>\n  </thead>\n  <tbody>\n    <tr>\n      <th>0</th>\n      <td>Hogfather</td>\n      <td>Terry Pratchett</td>\n      <td>HarperTorch</td>\n      <td>1999</td>\n    </tr>\n    <tr>\n      <th>1</th>\n      <td>Transformers, Book 1</td>\n      <td>Scott Ciencin</td>\n      <td>I Books</td>\n      <td>2003</td>\n    </tr>\n    <tr>\n      <th>2</th>\n      <td>Dawkins vs. Gould : Survival of the Fittest</td>\n      <td>Kim Sterelny</td>\n      <td>Icon Books UK</td>\n      <td>2001</td>\n    </tr>\n    <tr>\n      <th>3</th>\n      <td>Cretaceous-Tertiary Mass Extinctions: Biotic a...</td>\n      <td>Norman MacLeod</td>\n      <td>W. W. Norton &amp;amp; Company</td>\n      <td>1996</td>\n    </tr>\n    <tr>\n      <th>4</th>\n      <td>Evolution: A Case of Stating the Obvious</td>\n      <td>Derek Hough</td>\n      <td>Berkley Publishing Group</td>\n      <td>1997</td>\n    </tr>\n  </tbody>\n</table>\n</div>"
     },
     "metadata": {},
     "output_type": "display_data"
    },
    {
     "name": "stdout",
     "output_type": "stream",
     "text": [
      "Las recomendaciones son:\n"
     ]
    },
    {
     "data": {
      "text/plain": "                                 book-title      book-author  \\\n0                                Life of Pi      Yann Martel   \n1                         The Da Vinci Code        Dan Brown   \n2                                Siddhartha    Hermann Hesse   \n3                  And Then There Were None  Agatha Christie   \n4  The Waste Lands (The Dark Tower, Book 3)     Stephen King   \n\n                               publisher  year-of-publication  \n0                               Harcourt                 2002  \n1                              Doubleday                 2003  \n2  New Directions Publishing Corporation                 1951  \n3                                 Pocket                 1984  \n4                         Donald m Grant                 1991  ",
      "text/html": "<div>\n<style scoped>\n    .dataframe tbody tr th:only-of-type {\n        vertical-align: middle;\n    }\n\n    .dataframe tbody tr th {\n        vertical-align: top;\n    }\n\n    .dataframe thead th {\n        text-align: right;\n    }\n</style>\n<table border=\"1\" class=\"dataframe\">\n  <thead>\n    <tr style=\"text-align: right;\">\n      <th></th>\n      <th>book-title</th>\n      <th>book-author</th>\n      <th>publisher</th>\n      <th>year-of-publication</th>\n    </tr>\n  </thead>\n  <tbody>\n    <tr>\n      <th>0</th>\n      <td>Life of Pi</td>\n      <td>Yann Martel</td>\n      <td>Harcourt</td>\n      <td>2002</td>\n    </tr>\n    <tr>\n      <th>1</th>\n      <td>The Da Vinci Code</td>\n      <td>Dan Brown</td>\n      <td>Doubleday</td>\n      <td>2003</td>\n    </tr>\n    <tr>\n      <th>2</th>\n      <td>Siddhartha</td>\n      <td>Hermann Hesse</td>\n      <td>New Directions Publishing Corporation</td>\n      <td>1951</td>\n    </tr>\n    <tr>\n      <th>3</th>\n      <td>And Then There Were None</td>\n      <td>Agatha Christie</td>\n      <td>Pocket</td>\n      <td>1984</td>\n    </tr>\n    <tr>\n      <th>4</th>\n      <td>The Waste Lands (The Dark Tower, Book 3)</td>\n      <td>Stephen King</td>\n      <td>Donald m Grant</td>\n      <td>1991</td>\n    </tr>\n  </tbody>\n</table>\n</div>"
     },
     "metadata": {},
     "output_type": "display_data"
    }
   ],
   "source": [
    "# Información del usuario al cual le vamos a realizar la recomendación.\n",
    "user_id = random.choice(df_filter[\"user-id\"].values)\n",
    "_, location, edad, country = df_users[df_users['user-id'] == user_id].values.tolist()[0]\n",
    "all_books_read_user_id = df_filter[df_filter['user-id'] == user_id]['book-title'].tolist()\n",
    "user_choice_df = pd.DataFrame(user_favs(id=user_id, df_filter=df_filter))\n",
    "user_favorite = user_favs(id=user_id, df_filter=df_filter)\n",
    "n = len(user_choice_df[\"book-title\"].values)\n",
    "print(f\"🟦 USER ID: {user_id}; {edad} años de {location}\")\n",
    "print(\"Libros favoritos son:\")\n",
    "display(get_info_book(df_books=df_books_complete, listbooks=user_favorite['book-title'].values.tolist()))\n",
    "\n",
    "user_based_rec = get_users_with_highest_similarity(new_df=df_filter, id=user_id, df_users_pivot=df_users_pivot, df_coll_filter=df_coll_filter)\n",
    "books_for_user = get_recomendation_collaborative_filtering(new_df=df_filter, most_similar_users=user_based_rec, books_reading_user_id=all_books_read_user_id, n_books=5)\n",
    "print(\"Las recomendaciones son:\")\n",
    "display(get_info_book(df_books=df_books_complete, listbooks=books_for_user))"
   ]
  },
  {
   "attachments": {},
   "cell_type": "markdown",
   "metadata": {
    "collapsed": false
   },
   "source": [
    "# Based on the content\n",
    "---"
   ]
  },
  {
   "cell_type": "code",
   "execution_count": 12,
   "metadata": {},
   "outputs": [
    {
     "name": "stdout",
     "output_type": "stream",
     "text": [
      "shape: (1017069, 6)\n"
     ]
    },
    {
     "data": {
      "text/plain": "   user-id  book-rating                                         book-title  \\\n0        2            0                                Classical Mythology   \n1        8            0                             The Kitchen God's Wife   \n2        8            0  What If?: The World's Foremost Military Histor...   \n3        8            0                               Decision in Normandy   \n4        8            0                                    PLEADING GUILTY   \n\n          book-author                                        image-url-l  \\\n0  Mark P. O. Morford  http://images.amazon.com/images/P/0195153448.0...   \n1             Amy Tan  http://images.amazon.com/images/P/0399135782.0...   \n2       Robert Cowley  http://images.amazon.com/images/P/0425176428.0...   \n3        Carlo D'este  http://images.amazon.com/images/P/0060973129.0...   \n4         Scott Turow  http://images.amazon.com/images/P/0671870432.0...   \n\n   antiquity  \n0         21  \n1         32  \n2         23  \n3         32  \n4         30  ",
      "text/html": "<div>\n<style scoped>\n    .dataframe tbody tr th:only-of-type {\n        vertical-align: middle;\n    }\n\n    .dataframe tbody tr th {\n        vertical-align: top;\n    }\n\n    .dataframe thead th {\n        text-align: right;\n    }\n</style>\n<table border=\"1\" class=\"dataframe\">\n  <thead>\n    <tr style=\"text-align: right;\">\n      <th></th>\n      <th>user-id</th>\n      <th>book-rating</th>\n      <th>book-title</th>\n      <th>book-author</th>\n      <th>image-url-l</th>\n      <th>antiquity</th>\n    </tr>\n  </thead>\n  <tbody>\n    <tr>\n      <th>0</th>\n      <td>2</td>\n      <td>0</td>\n      <td>Classical Mythology</td>\n      <td>Mark P. O. Morford</td>\n      <td>http://images.amazon.com/images/P/0195153448.0...</td>\n      <td>21</td>\n    </tr>\n    <tr>\n      <th>1</th>\n      <td>8</td>\n      <td>0</td>\n      <td>The Kitchen God's Wife</td>\n      <td>Amy Tan</td>\n      <td>http://images.amazon.com/images/P/0399135782.0...</td>\n      <td>32</td>\n    </tr>\n    <tr>\n      <th>2</th>\n      <td>8</td>\n      <td>0</td>\n      <td>What If?: The World's Foremost Military Histor...</td>\n      <td>Robert Cowley</td>\n      <td>http://images.amazon.com/images/P/0425176428.0...</td>\n      <td>23</td>\n    </tr>\n    <tr>\n      <th>3</th>\n      <td>8</td>\n      <td>0</td>\n      <td>Decision in Normandy</td>\n      <td>Carlo D'este</td>\n      <td>http://images.amazon.com/images/P/0060973129.0...</td>\n      <td>32</td>\n    </tr>\n    <tr>\n      <th>4</th>\n      <td>8</td>\n      <td>0</td>\n      <td>PLEADING GUILTY</td>\n      <td>Scott Turow</td>\n      <td>http://images.amazon.com/images/P/0671870432.0...</td>\n      <td>30</td>\n    </tr>\n  </tbody>\n</table>\n</div>"
     },
     "execution_count": 12,
     "metadata": {},
     "output_type": "execute_result"
    }
   ],
   "source": [
    "df_based_content = pd.merge(df_users, df_ratings, on='user-id', how='inner')\n",
    "df_based_content = pd.merge(df_based_content, df_books, on=['isbn'], how='inner')\n",
    "df_based_content = df_based_content.sort_values('user-id')\\\n",
    "    .reset_index(drop=True)\\\n",
    "    .drop(['location', 'age', 'country', 'isbn'], axis=1)\n",
    "print(f\"shape: {df_based_content.shape}\")\n",
    "df_based_content.head()"
   ]
  },
  {
   "cell_type": "code",
   "execution_count": 13,
   "metadata": {},
   "outputs": [],
   "source": [
    "# Miramos cuantas veces aparece cada uno de los libros para así no tener en cuenta aquellos que aparezcan muy poco.\n",
    "df_count_books = pd.DataFrame(df_based_content[\"book-title\"].value_counts())\n",
    "df_rare = df_count_books[df_count_books[\"book-title\"]<= 100].index\n",
    "df_common_books = df_based_content[~df_based_content[\"book-title\"].isin(df_rare)]"
   ]
  },
  {
   "cell_type": "code",
   "execution_count": 14,
   "metadata": {},
   "outputs": [
    {
     "data": {
      "text/plain": "book-title  1984  1st to Die: A Novel  24 Hours  2nd Chance  4 Blondes  \\\nuser-id                                                                  \n8            NaN                  NaN       NaN         NaN        NaN   \n9            NaN                  NaN       NaN         NaN        NaN   \n14           NaN                  NaN       NaN         NaN        NaN   \n16           NaN                  NaN       NaN         NaN        NaN   \n17           NaN                  NaN       NaN         NaN        NaN   \n\nbook-title  A Beautiful Mind: The Life of Mathematical Genius and Nobel Laureate John Nash  \\\nuser-id                                                                                      \n8                                                         NaN                                \n9                                                         NaN                                \n14                                                        NaN                                \n16                                                        NaN                                \n17                                                        NaN                                \n\nbook-title  A Bend in the Road  A Case of Need  \\\nuser-id                                          \n8                          NaN             NaN   \n9                          NaN             NaN   \n14                         NaN             NaN   \n16                         NaN             NaN   \n17                         NaN             NaN   \n\nbook-title  A Child Called \\It\\\": One Child's Courage to Survive\"  \\\nuser-id                                                             \n8                                                         NaN       \n9                                                         NaN       \n14                                                        NaN       \n16                                                        NaN       \n17                                                        NaN       \n\nbook-title  A Civil Action  ...  Without Remorse  \\\nuser-id                     ...                    \n8                      NaN  ...              NaN   \n9                      NaN  ...              NaN   \n14                     NaN  ...              NaN   \n16                     NaN  ...              NaN   \n17                     NaN  ...              NaN   \n\nbook-title  Wizard and Glass (The Dark Tower, Book 4)  \\\nuser-id                                                 \n8                                                 NaN   \n9                                                 NaN   \n14                                                NaN   \n16                                                NaN   \n17                                                NaN   \n\nbook-title  Women Who Run with the Wolves  \\\nuser-id                                     \n8                                     NaN   \n9                                     NaN   \n14                                    NaN   \n16                                    NaN   \n17                                    NaN   \n\nbook-title  Word Freak: Heartbreak, Triumph, Genius, and Obsession in the World of Competitive Scrabble Players  \\\nuser-id                                                                                                           \n8                                                         NaN                                                     \n9                                                         NaN                                                     \n14                                                        NaN                                                     \n16                                                        NaN                                                     \n17                                                        NaN                                                     \n\nbook-title  Wuthering Heights  Year of Wonders  You Belong To Me  \\\nuser-id                                                            \n8                         NaN              NaN               NaN   \n9                         NaN              NaN               NaN   \n14                        NaN              NaN               NaN   \n16                        NaN              NaN               NaN   \n17                        NaN              NaN               NaN   \n\nbook-title  Zen and the Art of Motorcycle Maintenance: An Inquiry into Values  \\\nuser-id                                                                         \n8                                                         NaN                   \n9                                                         NaN                   \n14                                                        NaN                   \n16                                                        NaN                   \n17                                                        NaN                   \n\nbook-title  Zoya  \\O\\\" Is for Outlaw\"  \nuser-id                                \n8            NaN                  NaN  \n9            NaN                  NaN  \n14           NaN                  NaN  \n16           NaN                  NaN  \n17           NaN                  NaN  \n\n[5 rows x 897 columns]",
      "text/html": "<div>\n<style scoped>\n    .dataframe tbody tr th:only-of-type {\n        vertical-align: middle;\n    }\n\n    .dataframe tbody tr th {\n        vertical-align: top;\n    }\n\n    .dataframe thead th {\n        text-align: right;\n    }\n</style>\n<table border=\"1\" class=\"dataframe\">\n  <thead>\n    <tr style=\"text-align: right;\">\n      <th>book-title</th>\n      <th>1984</th>\n      <th>1st to Die: A Novel</th>\n      <th>24 Hours</th>\n      <th>2nd Chance</th>\n      <th>4 Blondes</th>\n      <th>A Beautiful Mind: The Life of Mathematical Genius and Nobel Laureate John Nash</th>\n      <th>A Bend in the Road</th>\n      <th>A Case of Need</th>\n      <th>A Child Called \\It\\\": One Child's Courage to Survive\"</th>\n      <th>A Civil Action</th>\n      <th>...</th>\n      <th>Without Remorse</th>\n      <th>Wizard and Glass (The Dark Tower, Book 4)</th>\n      <th>Women Who Run with the Wolves</th>\n      <th>Word Freak: Heartbreak, Triumph, Genius, and Obsession in the World of Competitive Scrabble Players</th>\n      <th>Wuthering Heights</th>\n      <th>Year of Wonders</th>\n      <th>You Belong To Me</th>\n      <th>Zen and the Art of Motorcycle Maintenance: An Inquiry into Values</th>\n      <th>Zoya</th>\n      <th>\\O\\\" Is for Outlaw\"</th>\n    </tr>\n    <tr>\n      <th>user-id</th>\n      <th></th>\n      <th></th>\n      <th></th>\n      <th></th>\n      <th></th>\n      <th></th>\n      <th></th>\n      <th></th>\n      <th></th>\n      <th></th>\n      <th></th>\n      <th></th>\n      <th></th>\n      <th></th>\n      <th></th>\n      <th></th>\n      <th></th>\n      <th></th>\n      <th></th>\n      <th></th>\n      <th></th>\n    </tr>\n  </thead>\n  <tbody>\n    <tr>\n      <th>8</th>\n      <td>NaN</td>\n      <td>NaN</td>\n      <td>NaN</td>\n      <td>NaN</td>\n      <td>NaN</td>\n      <td>NaN</td>\n      <td>NaN</td>\n      <td>NaN</td>\n      <td>NaN</td>\n      <td>NaN</td>\n      <td>...</td>\n      <td>NaN</td>\n      <td>NaN</td>\n      <td>NaN</td>\n      <td>NaN</td>\n      <td>NaN</td>\n      <td>NaN</td>\n      <td>NaN</td>\n      <td>NaN</td>\n      <td>NaN</td>\n      <td>NaN</td>\n    </tr>\n    <tr>\n      <th>9</th>\n      <td>NaN</td>\n      <td>NaN</td>\n      <td>NaN</td>\n      <td>NaN</td>\n      <td>NaN</td>\n      <td>NaN</td>\n      <td>NaN</td>\n      <td>NaN</td>\n      <td>NaN</td>\n      <td>NaN</td>\n      <td>...</td>\n      <td>NaN</td>\n      <td>NaN</td>\n      <td>NaN</td>\n      <td>NaN</td>\n      <td>NaN</td>\n      <td>NaN</td>\n      <td>NaN</td>\n      <td>NaN</td>\n      <td>NaN</td>\n      <td>NaN</td>\n    </tr>\n    <tr>\n      <th>14</th>\n      <td>NaN</td>\n      <td>NaN</td>\n      <td>NaN</td>\n      <td>NaN</td>\n      <td>NaN</td>\n      <td>NaN</td>\n      <td>NaN</td>\n      <td>NaN</td>\n      <td>NaN</td>\n      <td>NaN</td>\n      <td>...</td>\n      <td>NaN</td>\n      <td>NaN</td>\n      <td>NaN</td>\n      <td>NaN</td>\n      <td>NaN</td>\n      <td>NaN</td>\n      <td>NaN</td>\n      <td>NaN</td>\n      <td>NaN</td>\n      <td>NaN</td>\n    </tr>\n    <tr>\n      <th>16</th>\n      <td>NaN</td>\n      <td>NaN</td>\n      <td>NaN</td>\n      <td>NaN</td>\n      <td>NaN</td>\n      <td>NaN</td>\n      <td>NaN</td>\n      <td>NaN</td>\n      <td>NaN</td>\n      <td>NaN</td>\n      <td>...</td>\n      <td>NaN</td>\n      <td>NaN</td>\n      <td>NaN</td>\n      <td>NaN</td>\n      <td>NaN</td>\n      <td>NaN</td>\n      <td>NaN</td>\n      <td>NaN</td>\n      <td>NaN</td>\n      <td>NaN</td>\n    </tr>\n    <tr>\n      <th>17</th>\n      <td>NaN</td>\n      <td>NaN</td>\n      <td>NaN</td>\n      <td>NaN</td>\n      <td>NaN</td>\n      <td>NaN</td>\n      <td>NaN</td>\n      <td>NaN</td>\n      <td>NaN</td>\n      <td>NaN</td>\n      <td>...</td>\n      <td>NaN</td>\n      <td>NaN</td>\n      <td>NaN</td>\n      <td>NaN</td>\n      <td>NaN</td>\n      <td>NaN</td>\n      <td>NaN</td>\n      <td>NaN</td>\n      <td>NaN</td>\n      <td>NaN</td>\n    </tr>\n  </tbody>\n</table>\n<p>5 rows × 897 columns</p>\n</div>"
     },
     "execution_count": 14,
     "metadata": {},
     "output_type": "execute_result"
    }
   ],
   "source": [
    "# Pivotamos la información teniendo la información de cada usuario a nivel registro y cada libro a recomendar es una de las columnas del nuevo dataset.\n",
    "df_common_books_pivot = df_common_books.pivot_table(index=[\"user-id\"], columns=[\"book-title\"], values=\"book-rating\")\n",
    "df_common_books_pivot.head()"
   ]
  },
  {
   "cell_type": "code",
   "execution_count": 15,
   "outputs": [
    {
     "data": {
      "text/plain": "                                          book-title  book-rating  \\\n0  The Shelters of Stone (Earth's Children Series...     3.827273   \n1   The Eye of the World (The Wheel of Time, Book 1)     3.733333   \n2                                     Atlantis Found     3.308411   \n3                                           The Face     3.104762   \n4                                The Woman Next Door     2.847134   \n\n              book-author  year-of-publication  \n0            Jean M. Auel                 2002  \n1           Robert Jordan                 1990  \n2  R. Garcia Y. Robertson                 1997  \n3             Dan Mcneill                 1998  \n4        Barbara Delinsky                 2001  ",
      "text/html": "<div>\n<style scoped>\n    .dataframe tbody tr th:only-of-type {\n        vertical-align: middle;\n    }\n\n    .dataframe tbody tr th {\n        vertical-align: top;\n    }\n\n    .dataframe thead th {\n        text-align: right;\n    }\n</style>\n<table border=\"1\" class=\"dataframe\">\n  <thead>\n    <tr style=\"text-align: right;\">\n      <th></th>\n      <th>book-title</th>\n      <th>book-rating</th>\n      <th>book-author</th>\n      <th>year-of-publication</th>\n    </tr>\n  </thead>\n  <tbody>\n    <tr>\n      <th>0</th>\n      <td>The Shelters of Stone (Earth's Children Series...</td>\n      <td>3.827273</td>\n      <td>Jean M. Auel</td>\n      <td>2002</td>\n    </tr>\n    <tr>\n      <th>1</th>\n      <td>The Eye of the World (The Wheel of Time, Book 1)</td>\n      <td>3.733333</td>\n      <td>Robert Jordan</td>\n      <td>1990</td>\n    </tr>\n    <tr>\n      <th>2</th>\n      <td>Atlantis Found</td>\n      <td>3.308411</td>\n      <td>R. Garcia Y. Robertson</td>\n      <td>1997</td>\n    </tr>\n    <tr>\n      <th>3</th>\n      <td>The Face</td>\n      <td>3.104762</td>\n      <td>Dan Mcneill</td>\n      <td>1998</td>\n    </tr>\n    <tr>\n      <th>4</th>\n      <td>The Woman Next Door</td>\n      <td>2.847134</td>\n      <td>Barbara Delinsky</td>\n      <td>2001</td>\n    </tr>\n  </tbody>\n</table>\n</div>"
     },
     "execution_count": 15,
     "metadata": {},
     "output_type": "execute_result"
    }
   ],
   "source": [
    "# Recomendaciones\n",
    "bookTitle = 'Me Talk Pretty One Day'\n",
    "recommendation_based_content(df_common_books_pivot=df_common_books_pivot, df_based_content=df_based_content, bookTitle=bookTitle)"
   ],
   "metadata": {
    "collapsed": false
   }
  },
  {
   "cell_type": "code",
   "execution_count": null,
   "outputs": [],
   "source": [],
   "metadata": {
    "collapsed": false
   }
  },
  {
   "cell_type": "code",
   "execution_count": null,
   "outputs": [],
   "source": [],
   "metadata": {
    "collapsed": false
   }
  }
 ],
 "metadata": {
  "kernelspec": {
   "display_name": "Python 3",
   "language": "python",
   "name": "python3"
  },
  "language_info": {
   "codemirror_mode": {
    "name": "ipython",
    "version": 3
   },
   "file_extension": ".py",
   "mimetype": "text/x-python",
   "name": "python",
   "nbconvert_exporter": "python",
   "pygments_lexer": "ipython3",
   "version": "3.9.13"
  }
 },
 "nbformat": 4,
 "nbformat_minor": 4
}
